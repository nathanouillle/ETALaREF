{
 "cells": [
  {
   "cell_type": "code",
   "execution_count": 3,
   "id": "78251ca0",
   "metadata": {},
   "outputs": [],
   "source": [
    "from src.whisper_song import transcribe_folder\n",
    "from src.ui import chatbot_ui"
   ]
  },
  {
   "cell_type": "code",
   "execution_count": 4,
   "id": "2ed7343c",
   "metadata": {},
   "outputs": [
    {
     "data": {
      "application/vnd.jupyter.widget-view+json": {
       "model_id": "504c7ddea9e24d318a527bfa44c26c8e",
       "version_major": 2,
       "version_minor": 0
      },
      "text/plain": [
       "VBox(children=(Output(layout=Layout(border_bottom='1px solid #444', border_left='1px solid #444', border_right…"
      ]
     },
     "metadata": {},
     "output_type": "display_data"
    }
   ],
   "source": [
    "class ChatBot():\n",
    "    def __init__(self, db=None):\n",
    "        self.db = db\n",
    "\n",
    "    def __call__(self, msg):\n",
    "        if msg.lower() == 'image':\n",
    "                return f\"I received:'{msg}'\"\n",
    "        if msg.lower() == 'hello':\n",
    "            return 'world'\n",
    "\n",
    "bot = ChatBot()\n",
    "\n",
    "chatbot_ui(bot, record_seconds=5, auto_transcribe=True)"
   ]
  }
 ],
 "metadata": {
  "kernelspec": {
   "display_name": "matchalina-r",
   "language": "python",
   "name": "matchalina-r"
  },
  "language_info": {
   "codemirror_mode": {
    "name": "ipython",
    "version": 3
   },
   "file_extension": ".py",
   "mimetype": "text/x-python",
   "name": "python",
   "nbconvert_exporter": "python",
   "pygments_lexer": "ipython3",
   "version": "3.11.11"
  }
 },
 "nbformat": 4,
 "nbformat_minor": 5
}
